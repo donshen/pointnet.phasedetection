{
 "cells": [
  {
   "cell_type": "code",
   "execution_count": 32,
   "metadata": {},
   "outputs": [],
   "source": [
    "import random\n",
    "n_0 = 107\n",
    "n_train_0 = 64\n",
    "n_test_0 = 32\n",
    "n_val_0 = 11\n",
    "\n",
    "n_1 = 120\n",
    "n_train_1 = 64\n",
    "n_test_1 = 32\n",
    "n_val_1 = 24\n",
    "\n",
    "n_2 = 125\n",
    "n_train_2 = 64\n",
    "n_test_2 = 32\n",
    "n_val_2 = 29\n",
    "\n",
    "n_3 = 166\n",
    "n_train_3 = 96\n",
    "n_test_3 = 64\n",
    "n_val_3 = 6\n",
    "\n",
    "train_id_0 = random.sample(range(1,n_0+1), n_train_0)\n",
    "test_id_0 = random.sample(list(set([i for i in range(1,n_0+1)])-set(train_id_0)), n_test_0)\n",
    "val_id_0 = random.sample(list(set([i for i in range(1,n_0+1)])-set(train_id_0)-set(test_id_0)), n_val_0)\n",
    "\n",
    "train_id_1 = random.sample(range(1,n_1+1), n_train_1)\n",
    "test_id_1 = random.sample(list(set([i for i in range(1,n_1+1)])-set(train_id_1)), n_test_1)\n",
    "val_id_1 = random.sample(list(set([i for i in range(1,n_1+1)])-set(train_id_1)-set(test_id_1)), n_val_1)\n",
    "\n",
    "train_id_2 = random.sample(range(1,n_2+1), n_train_2)\n",
    "test_id_2 = random.sample(list(set([i for i in range(1,n_2+1)])-set(train_id_2)), n_test_2)\n",
    "val_id_2 = random.sample(list(set([i for i in range(1,n_2+1)])-set(train_id_2)-set(test_id_2)), n_val_2)\n",
    "\n",
    "train_id_3 = random.sample(range(1,n_3+1), n_train_3)\n",
    "test_id_3 = random.sample(list(set([i for i in range(1,n_3+1)])-set(train_id_3)), n_test_3)\n",
    "val_id_3 = random.sample(list(set([i for i in range(1,n_3+1)])-set(train_id_3)-set(test_id_3)), n_val_3)"
   ]
  },
  {
   "cell_type": "code",
   "execution_count": 33,
   "metadata": {},
   "outputs": [],
   "source": [
    "(data_train, data_test, data_val) = ([],[],[])\n",
    "for i in train_id_0:\n",
    "    data_train.append('\"shape_data/lam/coord_O_lam_%d\"' %i)\n",
    "for j in train_id_1:\n",
    "    data_train.append('\"shape_data/hpc/coord_O_hpc_%d\"' %j)    \n",
    "for k in train_id_2:   \n",
    "    data_train.append('\"shape_data/hpl/coord_O_hpl_%d\"' %k)\n",
    "for l in train_id_3:   \n",
    "    data_train.append('\"shape_data/dis/coord_O_dis_%d\"' %l)\n",
    "    \n",
    "for i in test_id_0:\n",
    "    data_test.append('\"shape_data/lam/coord_O_lam_%d\"' %i)\n",
    "for j in test_id_1:\n",
    "    data_test.append('\"shape_data/hpc/coord_O_hpc_%d\"' %j) \n",
    "for k in test_id_2:   \n",
    "    data_test.append('\"shape_data/hpl/coord_O_hpl_%d\"' %k)\n",
    "for l in test_id_3:   \n",
    "    data_test.append('\"shape_data/dis/coord_O_dis_%d\"' %l) \n",
    "    \n",
    "for i in val_id_0:\n",
    "    data_val.append('\"shape_data/lam/coord_O_lam_%d\"' %i)\n",
    "for j in val_id_1:\n",
    "    data_val.append('\"shape_data/hpc/coord_O_hpc_%d\"' %j) \n",
    "for k in val_id_2:   \n",
    "    data_val.append('\"shape_data/hpl/coord_O_hpl_%d\"' %k)\n",
    "for l in val_id_3:   \n",
    "    data_val.append('\"shape_data/dis/coord_O_dis_%d\"' %l)\n",
    "    "
   ]
  },
  {
   "cell_type": "code",
   "execution_count": 34,
   "metadata": {},
   "outputs": [],
   "source": [
    "ftrain = open('shuffled_train_file_list.json','w')\n",
    "ftrain.write('[')\n",
    "for k in range(len(data_train)-1):\n",
    "    ftrain.write(data_train[k] +',')\n",
    "ftrain.write(data_train[-1]+']')\n",
    "ftrain.close()\n",
    "\n",
    "ftest = open('shuffled_test_file_list.json','w')\n",
    "ftest.write('[')\n",
    "for k in range(len(data_test)-1):\n",
    "    ftest.write(data_test[k] +',')\n",
    "ftest.write(data_test[-1]+']')\n",
    "ftest.close()\n",
    "\n",
    "fval = open('shuffled_val_file_list.json','w')\n",
    "fval.write('[')\n",
    "for k in range(len(data_val)-1):\n",
    "    fval.write(data_val[k] +',')\n",
    "fval.write(data_val[-1]+']')\n",
    "fval.close()"
   ]
  },
  {
   "cell_type": "code",
   "execution_count": 35,
   "metadata": {},
   "outputs": [
    {
     "data": {
      "text/plain": [
       "160"
      ]
     },
     "execution_count": 35,
     "metadata": {},
     "output_type": "execute_result"
    }
   ],
   "source": [
    "len(data_test)"
   ]
  },
  {
   "cell_type": "code",
   "execution_count": null,
   "metadata": {},
   "outputs": [],
   "source": []
  }
 ],
 "metadata": {
  "kernelspec": {
   "display_name": "Python 3",
   "language": "python",
   "name": "python3"
  },
  "language_info": {
   "codemirror_mode": {
    "name": "ipython",
    "version": 3
   },
   "file_extension": ".py",
   "mimetype": "text/x-python",
   "name": "python",
   "nbconvert_exporter": "python",
   "pygments_lexer": "ipython3",
   "version": "3.7.3"
  }
 },
 "nbformat": 4,
 "nbformat_minor": 2
}
