{
 "cells": [
  {
   "cell_type": "code",
   "execution_count": 30,
   "metadata": {},
   "outputs": [],
   "source": [
    "import os \n",
    "i = 1\n",
    "\n",
    "category = \"hpc\"\n",
    "for filename in os.listdir(\"points\"): \n",
    "    dst1 =(\"coord_O_%s_%d\" %(category,i)) + \".pts\"\n",
    "    src1 ='points/' + filename \n",
    "    dst1 ='points/' + dst1 \n",
    "\n",
    "#     dst2 =(\"coord_O_%s_\" %category)+ str(i) + \".seg\"\n",
    "#     src2 ='points_label/' + filename.split('.')[0]+'.seg'\n",
    "#     dst2 ='points_label/' + dst2 \n",
    "\n",
    "    os.rename(src1, dst1)\n",
    "#    os.rename(src2, dst2) \n",
    "    i += 1"
   ]
  },
  {
   "cell_type": "code",
   "execution_count": 3,
   "metadata": {},
   "outputs": [
    {
     "data": {
      "text/plain": [
       "120"
      ]
     },
     "execution_count": 3,
     "metadata": {},
     "output_type": "execute_result"
    }
   ],
   "source": [
    "import os\n",
    "len(os.listdir(\"points\"))"
   ]
  },
  {
   "cell_type": "code",
   "execution_count": 32,
   "metadata": {},
   "outputs": [],
   "source": [
    "count = 0\n",
    "with open('points/coord_O_lam_1.pts','r') as f:\n",
    "    for line in f:\n",
    "        count += 1\n"
   ]
  },
  {
   "cell_type": "code",
   "execution_count": 33,
   "metadata": {},
   "outputs": [],
   "source": [
    "for filename in os.listdir(\"points\"): \n",
    "    src ='points/' + filename\n",
    "    dest = 'points_label/' + filename.split('.')[0]+'.seg'\n",
    "    count = 0\n",
    "    with open(src,'r') as f1:\n",
    "        for line in f1:\n",
    "            count += 1\n",
    "    with open(dest,'w') as f2:\n",
    "        for i in range(count):\n",
    "            f2.write('1\\n')\n",
    "            "
   ]
  },
  {
   "cell_type": "code",
   "execution_count": null,
   "metadata": {},
   "outputs": [],
   "source": []
  }
 ],
 "metadata": {
  "kernelspec": {
   "display_name": "Python 3",
   "language": "python",
   "name": "python3"
  },
  "language_info": {
   "codemirror_mode": {
    "name": "ipython",
    "version": 3
   },
   "file_extension": ".py",
   "mimetype": "text/x-python",
   "name": "python",
   "nbconvert_exporter": "python",
   "pygments_lexer": "ipython3",
   "version": "3.7.3"
  }
 },
 "nbformat": 4,
 "nbformat_minor": 2
}
