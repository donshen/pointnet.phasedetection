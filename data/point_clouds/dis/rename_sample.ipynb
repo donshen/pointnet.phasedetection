{
 "cells": [
  {
   "cell_type": "code",
   "execution_count": 2,
   "metadata": {},
   "outputs": [],
   "source": [
    "import os \n",
    "i = 1\n",
    "\n",
    "category = \"dis\"\n",
    "for filename in os.listdir(\"points\"): \n",
    "    dst1 =(\"coord_O_%s_\" %category)+ str(i) + \".pts\"\n",
    "    src1 ='points/' + filename \n",
    "    dst1 ='points/' + dst1 \n",
    "\n",
    "    dst2 =(\"coord_O_%s_\" %category)+ str(i) + \".seg\"\n",
    "    src2 ='points_label/' + filename.split('.')[0]+'.seg'\n",
    "    dst2 ='points_label/' + dst2 \n",
    "\n",
    "    os.rename(src1, dst1)\n",
    "    os.rename(src2, dst2) \n",
    "    i += 1\n",
    "\n",
    "              \n",
    "\n"
   ]
  },
  {
   "cell_type": "code",
   "execution_count": 12,
   "metadata": {},
   "outputs": [
    {
     "data": {
      "text/plain": [
       "'dis_2_8_2_12000.pts'"
      ]
     },
     "execution_count": 12,
     "metadata": {},
     "output_type": "execute_result"
    }
   ],
   "source": [
    "filename"
   ]
  },
  {
   "cell_type": "code",
   "execution_count": null,
   "metadata": {},
   "outputs": [],
   "source": []
  }
 ],
 "metadata": {
  "kernelspec": {
   "display_name": "Python 3",
   "language": "python",
   "name": "python3"
  },
  "language_info": {
   "codemirror_mode": {
    "name": "ipython",
    "version": 3
   },
   "file_extension": ".py",
   "mimetype": "text/x-python",
   "name": "python",
   "nbconvert_exporter": "python",
   "pygments_lexer": "ipython3",
   "version": "3.7.3"
  }
 },
 "nbformat": 4,
 "nbformat_minor": 2
}
