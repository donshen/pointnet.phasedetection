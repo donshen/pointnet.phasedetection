{
 "cells": [
  {
   "cell_type": "code",
   "execution_count": 1,
   "id": "9538e79d",
   "metadata": {},
   "outputs": [],
   "source": [
    "import os\n",
    "import sys\n",
    "sys.path.append('../')\n",
    "import torch\n",
    "import torch.nn.parallel\n",
    "import torch.utils.data\n",
    "from torch.autograd import Variable\n",
    "from pointnet.dataset import PhaseDataset\n",
    "from pointnet.model_stn import PointNetCls\n",
    "import torch.nn.functional as F\n",
    "import numpy as np\n",
    "np.set_printoptions(precision=6)\n",
    "from scipy.special import softmax"
   ]
  },
  {
   "cell_type": "code",
   "execution_count": 2,
   "id": "40f4ea64",
   "metadata": {},
   "outputs": [],
   "source": [
    "def update_json_val(n_clouds, phase, guess, json_path):\n",
    "    data = []\n",
    "    for j in range(1, n_clouds + 1):\n",
    "        data.append('\"shape_data/%s/coord_O_%s_%d\"' %(guess, phase, j))    \n",
    "    with open(json_path,'w') as f:\n",
    "        f.write('[')\n",
    "        for k in range(len(data) - 1):\n",
    "            f.write(data[k] + ',')\n",
    "        f.write(data[-1] + ']')\n",
    "\n",
    "json_path = '../data/point_clouds/train_test_split/shuffled_val_file_list.json'\n",
    "phase = 'dd_glyco'\n",
    "guess = 'dd'\n",
    "update_json_val(50, phase, guess, json_path)"
   ]
  },
  {
   "cell_type": "code",
   "execution_count": 3,
   "id": "08e7ad3e",
   "metadata": {},
   "outputs": [
    {
     "name": "stdout",
     "output_type": "stream",
     "text": [
      "{'BCC': 0, 'DD': 1, 'DG': 2, 'DIS': 3, 'HPC': 4, 'HPL': 5, 'LAM': 6, 'P': 7, 'SG': 8}\n",
      "{'LAM': 1, 'HPC': 1, 'HPL': 1, 'BCC': 1, 'DIS': 1, 'SG': 1, 'DG': 1, 'DD': 1, 'P': 1} 1\n",
      "model: 81\tbatch: 0\tloss: 0.3411647379398346\n",
      "model: 81\tbatch: 1\tloss: 0.15418928861618042\n",
      "model: 82\tbatch: 0\tloss: 0.4114432632923126\n",
      "model: 82\tbatch: 1\tloss: 0.6437581181526184\n",
      "model: 83\tbatch: 0\tloss: 0.659503698348999\n",
      "model: 83\tbatch: 1\tloss: 0.04851318895816803\n",
      "model: 84\tbatch: 0\tloss: 0.27888840436935425\n",
      "model: 84\tbatch: 1\tloss: 0.29714152216911316\n",
      "model: 85\tbatch: 0\tloss: 0.3996909558773041\n",
      "model: 85\tbatch: 1\tloss: 0.0868503749370575\n",
      "model: 86\tbatch: 0\tloss: 0.2309407889842987\n",
      "model: 86\tbatch: 1\tloss: 0.12198417633771896\n",
      "model: 87\tbatch: 0\tloss: 0.26949724555015564\n",
      "model: 87\tbatch: 1\tloss: 0.06079849228262901\n",
      "model: 88\tbatch: 0\tloss: 0.2771943211555481\n",
      "model: 88\tbatch: 1\tloss: 0.04116285964846611\n",
      "model: 89\tbatch: 0\tloss: 0.3161860406398773\n",
      "model: 89\tbatch: 1\tloss: 0.01701296865940094\n",
      "model: 90\tbatch: 0\tloss: 0.35998865962028503\n",
      "model: 90\tbatch: 1\tloss: 0.13745082914829254\n",
      "model: 91\tbatch: 0\tloss: 0.05909235030412674\n",
      "model: 91\tbatch: 1\tloss: 0.04499443992972374\n",
      "model: 92\tbatch: 0\tloss: 0.1818835288286209\n",
      "model: 92\tbatch: 1\tloss: 0.17179173231124878\n",
      "model: 93\tbatch: 0\tloss: 0.04737750440835953\n",
      "model: 93\tbatch: 1\tloss: 0.10828235000371933\n",
      "model: 94\tbatch: 0\tloss: 0.5593245625495911\n",
      "model: 94\tbatch: 1\tloss: 0.3807821273803711\n",
      "model: 95\tbatch: 0\tloss: 0.28984710574150085\n",
      "model: 95\tbatch: 1\tloss: 0.20484593510627747\n",
      "model: 96\tbatch: 0\tloss: 0.4000852406024933\n",
      "model: 96\tbatch: 1\tloss: 0.046634119004011154\n",
      "model: 97\tbatch: 0\tloss: 0.04974640905857086\n",
      "model: 97\tbatch: 1\tloss: 0.027445128187537193\n",
      "model: 98\tbatch: 0\tloss: 0.35054248571395874\n",
      "model: 98\tbatch: 1\tloss: 0.08530154824256897\n",
      "model: 99\tbatch: 0\tloss: 0.019502025097608566\n",
      "model: 99\tbatch: 1\tloss: 0.04920707643032074\n",
      "Best model: 99\n"
     ]
    }
   ],
   "source": [
    "model_path = '../trained_models/model_C/'\n",
    "num_points = 1000\n",
    "\n",
    "\n",
    "test_dataset = PhaseDataset(\n",
    "        root='../data/point_clouds',\n",
    "        split='val',\n",
    "        classification=True,\n",
    "        npoints=num_points,\n",
    "        data_augmentation=False)\n",
    "\n",
    "test_dataloader = torch.utils.data.DataLoader(\n",
    "    test_dataset, batch_size=32, shuffle=False)\n",
    "\n",
    "num_classes = len(test_dataset.classes)\n",
    "classifier = PointNetCls(k=num_classes, feature_transform=False)\n",
    "classifier.cuda()\n",
    "\n",
    "def evaluate(test_dataset, test_dataloader, classifier, model):\n",
    "    pred_class = []\n",
    "    tot_loss = 0   \n",
    "    pred_all = np.zeros((0,9))   \n",
    "    for i, data in enumerate(test_dataloader, 0):\n",
    "        points, target = data\n",
    "        target = target[:, 0].cuda()\n",
    "        points = points.transpose(2, 1).cuda()\n",
    "        classifier = classifier.eval()\n",
    "        pred, _, _ = classifier(points)\n",
    "        loss = F.nll_loss(pred, target)\n",
    "        pred_all = np.vstack([pred_all, pred.cpu().detach().numpy()])\n",
    "        print('model: {}\\tbatch: {}\\tloss: {}'.format(model_idx, i, loss.data.item()))\n",
    "        tot_loss += loss.data\n",
    "        \n",
    "    return pred_all, tot_loss\n",
    "\n",
    "min_loss = float(\"inf\")\n",
    "best_model_idx = 0\n",
    "pred_final = None\n",
    "for model_idx in range(81, 100):\n",
    "    model= os.path.join(model_path, 'cls_model_{}.pth'.format(model_idx))\n",
    "    classifier.load_state_dict(torch.load(model), strict=False)\n",
    "    pred_all, tot_loss = evaluate(test_dataset, test_dataloader, classifier, model)\n",
    "    if tot_loss < min_loss:\n",
    "        min_loss = tot_loss\n",
    "        pred_final = pred_all\n",
    "        best_model_idx = model_idx\n",
    "print('Best model: {}'.format(best_model_idx))\n",
    "scores = softmax(pred_final, axis =1)\n",
    "    \n",
    "    "
   ]
  },
  {
   "cell_type": "code",
   "execution_count": 4,
   "id": "36700982",
   "metadata": {},
   "outputs": [],
   "source": [
    "import matplotlib.pyplot as plt\n",
    "import matplotlib.ticker as ticker\n",
    "class Visualize:\n",
    "    def __init__(self, scores):\n",
    "        self.scores = scores\n",
    "        self.labels = {'BCC': 1, 'DD': 2, 'DG': 3, 'DIS': 4, 'HPC': 5, 'HPL': 6, 'LAM': 7, 'P': 8, 'SG': 9}\n",
    "        self.figsize = (6.5, 4)\n",
    "        \n",
    "    def plot_softmax_scores_stack(self):\n",
    "        x = np.arange(1, 1 + scores.shape[0]) \n",
    "        fig, ax = plt.subplots(1,figsize=self.figsize)\n",
    "        ax.stackplot(x, scores[:,0], scores[:,1], scores[:,2], \n",
    "                     scores[:,3], scores[:,4], scores[:,5], \n",
    "                     scores[:,6], scores[:,7], scores[:,8],\n",
    "                    alpha = 0.88)\n",
    "        ax.legend(self.labels, bbox_to_anchor=(1.31, 1.03), fontsize = 16)\n",
    "        ax.tick_params(direction='in', width = 1)\n",
    "        ax.set_ylim([0, 1])\n",
    "        ax.set_xlabel('Frame Index')\n",
    "        ax.set_ylabel('Softmax Probability')\n",
    "        plt.show()\n",
    "    \n",
    "    def plot_cand_hist(self):\n",
    "        freq = {i:0 for i in range(len(self.labels))}\n",
    "        for i in range(scores.shape[0]):\n",
    "            freq[np.argmax(scores[i,:])] += 1\n",
    "        fig, ax = plt.subplots(1,figsize=self.figsize)\n",
    "        ax.bar(range(len(self.labels)), list(freq.values()) / np.sum(list(freq.values())), align='center')\n",
    "        ax.set_xlabel('Structures')\n",
    "        ax.set_ylabel('Frequency')\n",
    "        ax.set_ylim([0, 1])\n",
    "        ax.tick_params(direction='in', width = 1, )\n",
    "        tick_spacing = 1\n",
    "        ax.xaxis.set_major_locator(ticker.MultipleLocator(tick_spacing))  \n",
    "        labels = [''] + list(self.labels.keys())\n",
    "        ax.set_xticklabels(labels)\n",
    "        fig.tight_layout()\n",
    "\n",
    "viz = Visualize(scores)\n"
   ]
  },
  {
   "cell_type": "code",
   "execution_count": 5,
   "id": "85fa297a",
   "metadata": {},
   "outputs": [
    {
     "data": {
      "image/png": "[encoded data removed]",
      "text/plain": [
       "<Figure size 468x288 with 1 Axes>"
      ]
     },
     "metadata": {},
     "output_type": "display_data"
    }
   ],
   "source": [
    "viz.plot_softmax_scores_stack()"
   ]
  },
  {
   "cell_type": "code",
   "execution_count": 6,
   "id": "8fef0381",
   "metadata": {},
   "outputs": [
    {
     "data": {
      "image/png": "[encoded data removed]",
      "text/plain": [
       "<Figure size 468x288 with 1 Axes>"
      ]
     },
     "metadata": {},
     "output_type": "display_data"
    }
   ],
   "source": [
    "viz.plot_cand_hist()"
   ]
  },
  {
   "cell_type": "code",
   "execution_count": null,
   "id": "d8dda341",
   "metadata": {},
   "outputs": [],
   "source": []
  }
 ],
 "metadata": {
  "kernelspec": {
   "display_name": "Python 3",
   "language": "python",
   "name": "python3"
  },
  "language_info": {
   "codemirror_mode": {
    "name": "ipython",
    "version": 3
   },
   "file_extension": ".py",
   "mimetype": "text/x-python",
   "name": "python",
   "nbconvert_exporter": "python",
   "pygments_lexer": "ipython3",
   "version": "3.6.9"
  }
 },
 "nbformat": 4,
 "nbformat_minor": 5
}
